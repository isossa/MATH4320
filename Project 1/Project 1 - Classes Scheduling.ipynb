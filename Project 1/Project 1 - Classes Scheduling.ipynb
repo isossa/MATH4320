{
 "cells": [
  {
   "cell_type": "markdown",
   "id": "functional-belief",
   "metadata": {},
   "source": [
    "## Project 1: Class Scheduling with Mathematical Programming\n",
    "\n",
    "* **Collaborators**: Isidore Sossa and Chase Scott\n",
    "* **Resources**: \n",
    "    * Nurses Scheduling Problem\n",
    "* **Project's requirements**:\n",
    "    * Use data provided through Canvas\n",
    "    * Generate random list of preferences for each professor according to their qualification, i.e. an integer from 1 to *n*, where *n* is the number of classes the professor is qualified to teach. The higher the number the lesser the preference.\n",
    "    * Extract out professors who do not teach\n",
    "    * Professors who do teach work at the maximum of their workload\n",
    "    * Classes start at 8:00 AM and end at 6:00 PM and can only start at every half period.\n",
    "    * One credit hour is equivalent to 50 minutes. E.g. A 3-credit hour class meet for a total of 150 minutes per week.\n",
    "    * Add two constraints of your chosen"
   ]
  },
  {
   "cell_type": "code",
   "execution_count": null,
   "id": "representative-humanitarian",
   "metadata": {},
   "outputs": [],
   "source": [
    "import pandas as pd\n",
    "from docplex.mp.model import Model\n",
    "import math\n",
    "import random\n",
    "import numpy as np\n",
    "import itertools"
   ]
  },
  {
   "cell_type": "markdown",
   "id": "promotional-garage",
   "metadata": {},
   "source": [
    "### Functions and Customizations"
   ]
  },
  {
   "cell_type": "code",
   "execution_count": null,
   "id": "cellular-ottawa",
   "metadata": {},
   "outputs": [],
   "source": [
    "## Standardize data frame column names\n",
    "def clean_dataframe_columns(df:pd.DataFrame) -> pd.DataFrame:\n",
    "    colnames = df.columns.values.tolist()\n",
    "    colnames = [col.replace(' ', '_') for col in colnames]\n",
    "    df.columns = colnames"
   ]
  },
  {
   "cell_type": "code",
   "execution_count": null,
   "id": "israeli-catholic",
   "metadata": {},
   "outputs": [],
   "source": [
    "## Duplicate courses with multiple sessions\n",
    "def standardize_courses_offered(courses_offered:pd.DataFrame, course_catalog_df:pd.DataFrame) -> pd.DataFrame:\n",
    "    ''''''\n",
    "    def get_day_name(day:str):\n",
    "        days_name = {'M':'Monday', 'TU':'Tuesday', 'W':'Wednesday', 'TH':'Thursday', 'F':'Friday'}\n",
    "        return days_name[day]\n",
    "    \n",
    "    result = pd.DataFrame()\n",
    "    result = result.append(courses_offered[courses_offered['Sections'] == 1])\n",
    "    for course in courses_offered[courses_offered['Sections'] > 1].itertuples():\n",
    "        course = pd.DataFrame(course).T.drop(columns=0)\n",
    "        course.columns = courses_offered.columns\n",
    "        for i in range(1, course['Sections'][0] + 1):\n",
    "            course['Sections'] = i\n",
    "            result = result.append([course], ignore_index=True)\n",
    "    result = result.rename(columns={'Sections' : 'Session'})\n",
    "    result = result.sort_values(by=['Course_Number', 'Session']).reset_index().drop(columns='index')\n",
    "    result = pd.merge(left=result, right=course_catalog_df, on=['Department_Code', 'Course_Number', 'Course_Name'])\n",
    "    \n",
    "    courses_offered = result\n",
    "    result = pd.DataFrame()\n",
    "    \n",
    "    for course in courses_offered.itertuples():\n",
    "        course = pd.DataFrame(course).T.drop(columns=0)\n",
    "        course.columns = courses_offered.columns\n",
    "        days_taught = course['Day'][0]\n",
    "        days_taught = days_taught.split('/')\n",
    "        for i in days_taught:\n",
    "            course['Day'] = i\n",
    "            result = result.append([course], ignore_index=True)\n",
    "            \n",
    "    result['Day'] = result.apply(lambda row : get_day_name(row.Day), axis=1)\n",
    "    return result"
   ]
  },
  {
   "cell_type": "code",
   "execution_count": null,
   "id": "integral-wright",
   "metadata": {},
   "outputs": [],
   "source": [
    "## Clean\n",
    "def merge_and_get_preference(professors_df:pd.DataFrame, qualifications:pd.DataFrame, course:str) -> pd.DataFrame:\n",
    "    ''''''\n",
    "    def manipulate_row(row:pd.DataFrame, course:str):\n",
    "        cols = [x for x in row.columns if course in x]\n",
    "        class_taught = 0\n",
    "        for col in cols:\n",
    "            if not math.isnan(row[col][0]):\n",
    "                class_taught += row[col][0]\n",
    "        class_taught = int(class_taught)\n",
    "        if row['Workload_Credit_Hours'][0] > 0:\n",
    "            preferences = random.sample(list(range(1, class_taught + 1)), class_taught)\n",
    "        else:\n",
    "            preferences = [0] * class_taught\n",
    "            \n",
    "\n",
    "        index = 0\n",
    "        for col in cols:\n",
    "            if not math.isnan(row[col][0]):\n",
    "                row[col] = preferences[index]\n",
    "                index += 1\n",
    "            else:\n",
    "                row[col] = 0\n",
    "        return row\n",
    "\n",
    "    result_df = pd.merge(left=professors_df, right=qualifications_df, on=['Faculty_Name', 'Department_Code'])\n",
    "    col_names = list(result_df.columns)\n",
    "    preferences_df = pd.DataFrame(columns=col_names)\n",
    "    col_names = result_df.columns\n",
    "    for row in result_df.itertuples():\n",
    "        row_df = pd.Series(row).to_frame().T.drop(columns=0)\n",
    "        row_df.columns = col_names\n",
    "        row_df = manipulate_row(row_df, course)\n",
    "        preferences_df = preferences_df.append(row_df, ignore_index=True)\n",
    "    return preferences_df"
   ]
  },
  {
   "cell_type": "code",
   "execution_count": null,
   "id": "scenic-spank",
   "metadata": {},
   "outputs": [],
   "source": [
    "def get_period_df(start_hour=8, end_hour=18) -> pd.DataFrame:\n",
    "    '''Create a dataframe with days'''\n",
    "    days = ['Monday', 'Tuesday', 'Wednesday', 'Thursday', 'Friday']\n",
    "    days_of_weeks = dict(zip(days, range(0, 5)))\n",
    "    days_of_weeks\n",
    "\n",
    "    result = pd.DataFrame(columns=['Period', 'Day'])\n",
    "    start = 1\n",
    "    day_digits = []\n",
    "    day_names = []\n",
    "    for day, day_digit in days_of_weeks.items():\n",
    "        day_names.extend([day] * 20)\n",
    "        day_digits.extend([day_digit] * 20)\n",
    "        \n",
    "    start_time = [x * 0.5 for x in range(2*start_hour, 2*end_hour)] * len(days)\n",
    "    end_time = [x * 0.5 for x in range(2*start_hour + 1, 2*end_hour + 1)] * len(days)\n",
    "    \n",
    "    \n",
    "    return pd.DataFrame.from_dict({'Period' : list(range(1, 101)), 'Day_Name' : day_names, 'Day_Number' : day_digits, \n",
    "                                   'Start_Time' : start_time, 'End_Time' : end_time})\n"
   ]
  },
  {
   "cell_type": "code",
   "execution_count": null,
   "id": "approximate-generic",
   "metadata": {},
   "outputs": [],
   "source": [
    "def get_column_value_as_list(df:pd.DataFrame, colname:str) -> pd.DataFrame:\n",
    "    '''Get the values of a data frame column as a Python list'''\n",
    "    if colname in df.columns:\n",
    "        return df[colname].values.tolist()\n",
    "    else:\n",
    "        return None"
   ]
  },
  {
   "cell_type": "markdown",
   "id": "amateur-tuning",
   "metadata": {},
   "source": [
    "### Data Exploration and Cleaning"
   ]
  },
  {
   "cell_type": "code",
   "execution_count": null,
   "id": "difficult-panic",
   "metadata": {
    "scrolled": true
   },
   "outputs": [],
   "source": [
    "## Load data\n",
    "data_file = 'Data Set – Class Schedule.xlsx'\n",
    "file_handler = pd.ExcelFile(path_or_buffer=data_file)\n",
    "file_sheets = sorted(file_handler.sheet_names)\n",
    "print(f'Sheets : {file_sheets}')\n",
    "\n",
    "## Load each sheet as a DataFrame\n",
    "classrooms_df = pd.read_excel(io=file_handler, sheet_name=file_sheets[0])\n",
    "clean_dataframe_columns(classrooms_df)\n",
    "display(file_sheets[0], classrooms_df)\n",
    "\n",
    "colleges_and_depts = pd.read_excel(io=file_handler, sheet_name=file_sheets[1])\n",
    "clean_dataframe_columns(colleges_and_depts)\n",
    "display(file_sheets[1], colleges_and_depts.head(5))\n",
    "\n",
    "course_catalog_df = pd.read_excel(io=file_handler, sheet_name=file_sheets[2])\n",
    "clean_dataframe_columns(course_catalog_df)\n",
    "display(file_sheets[2], course_catalog_df.sort_values('Course_Name').head(25))\n",
    "\n",
    "courses_offered = pd.read_excel(io=file_handler, sheet_name=file_sheets[3])\n",
    "clean_dataframe_columns(courses_offered)\n",
    "display(file_sheets[3], courses_offered.sort_values('Course_Name').head(45))\n",
    "\n",
    "professors_df = pd.read_excel(io=file_handler, sheet_name=file_sheets[4])\n",
    "clean_dataframe_columns(professors_df)\n",
    "display(file_sheets[4], professors_df.head(5))\n",
    "\n",
    "qualifications_df = pd.read_excel(io=file_handler, sheet_name=file_sheets[5])\n",
    "clean_dataframe_columns(qualifications_df)\n",
    "display(file_sheets[5], qualifications_df.head(5))"
   ]
  },
  {
   "cell_type": "code",
   "execution_count": null,
   "id": "signed-concrete",
   "metadata": {
    "scrolled": true
   },
   "outputs": [],
   "source": [
    "# For reproducibility\n",
    "random.seed(3)\n",
    "\n",
    "courses_offered = standardize_courses_offered(courses_offered, course_catalog_df)\n",
    "preferences_df = merge_and_get_preference(professors_df, qualifications_df, 'ENTOM')\n",
    "display(preferences_df)\n",
    "periods_df = get_period_df()\n",
    "display(periods_df.head(21))"
   ]
  },
  {
   "cell_type": "markdown",
   "id": "engaged-battlefield",
   "metadata": {},
   "source": [
    "### Mathematical Model"
   ]
  },
  {
   "cell_type": "markdown",
   "id": "heated-mixer",
   "metadata": {},
   "source": [
    "#### Model Initialization"
   ]
  },
  {
   "cell_type": "code",
   "execution_count": null,
   "id": "killing-donor",
   "metadata": {},
   "outputs": [],
   "source": [
    "## Model Environment\n",
    "model = Model(name='Course Scheduling')\n",
    "\n",
    "######################\n",
    "# Decision Variables #\n",
    "######################\n",
    "x_fcsrp = dict()\n",
    "for professor in preferences_df.Faculty_Name:\n",
    "    for course in courses_offered.itertuples():\n",
    "        for period in periods_df[periods_df.Day_Name == course.Day].Period.values.tolist():\n",
    "            for room in classrooms_df.Classroom:\n",
    "                x_fcsrp[(professor, course.Course_Name, course.Session, room, period)] = model.binary_var(name = \"x({},{},{},{},{})\".format(professor, course.Course_Name, course.Session, room, period))\n",
    "                \n",
    "model.print_information()"
   ]
  },
  {
   "cell_type": "markdown",
   "id": "aboriginal-profession",
   "metadata": {},
   "source": [
    "#### Constraints"
   ]
  },
  {
   "cell_type": "code",
   "execution_count": null,
   "id": "hairy-portal",
   "metadata": {},
   "outputs": [],
   "source": [
    "### Exclude faculty member whose workload is zero\n",
    "for professor in preferences_df[preferences_df.Workload_Credit_Hours == 0].itertuples():\n",
    "    for course in courses_offered.itertuples():\n",
    "        for period in periods_df[periods_df.Day_Name == course.Day].Period.values.tolist():\n",
    "            for room in classrooms_df.Classroom:\n",
    "                model.add_constraint(x_fcsrp[(professor.Faculty_Name, course.Course_Name, course.Session, room, period)] == 0)\n",
    "\n",
    "### Each course is taught for the number of periods needed to satisfy the course credit hours on the days it is offered\n",
    "CLASS_DURATION = 50\n",
    "PERIOD_DURATION = 30\n",
    "for course in courses_offered.groupby(by=['Course_Name', 'Session']):\n",
    "    course_name, session = course[0]\n",
    "    number_of_credit = course[1].Credit_Hours.values.tolist()[0]\n",
    "    duration = (number_of_credit * CLASS_DURATION) / (len(course[1]) * PERIOD_DURATION)\n",
    "    number_of_period_covered = math.ceil(duration)\n",
    "    for day_offered in course[1].Day.values.tolist():\n",
    "        aggregate_values = []\n",
    "        for period in periods_df[periods_df.Day_Name == day_offered].Period.values.tolist():\n",
    "            for professor in preferences_df.Faculty_Name:\n",
    "                for room in classrooms_df.Classroom:\n",
    "                    aggregate_values.append(x_fcsrp[(professor, course_name, session, room, period)])\n",
    "        model.add_constraint(model.sum(aggregate_values) == number_of_period_covered)\n",
    "        \n",
    "### A faculty can only teach one course at a time\n",
    "for professor in preferences_df.Faculty_Name:\n",
    "    for days in courses_offered.groupby(by='Day'):\n",
    "        for period in periods_df[periods_df.Day_Name == days[0]].Period.values.tolist():\n",
    "            aggregate_values = []\n",
    "            for course in days[1].itertuples():\n",
    "                for room in classrooms_df.Classroom:\n",
    "                    aggregate_values.append(x_fcsrp[(professor, course.Course_Name, course.Session, room, period)])\n",
    "            model.add_constraint(model.sum(aggregate_values) <= 1)               \n",
    "\n",
    "### Only one room can host a class in any given time\n",
    "for room in classrooms_df.Classroom:\n",
    "    for days in courses_offered.groupby(by='Day'):\n",
    "        for period in periods_df[periods_df.Day_Name == days[0]].Period.values.tolist():\n",
    "            aggregate_values = []\n",
    "            for course in days[1].itertuples():\n",
    "                for professor in preferences_df.Faculty_Name:\n",
    "                    aggregate_values.append(x_fcsrp[(professor, course.Course_Name, course.Session, room, period)])\n",
    "            model.add_constraint(model.sum(aggregate_values) <= 1)               \n",
    "\n",
    "### The same room is assigned one class\n",
    "CLASS_DURATION = 50\n",
    "PERIOD_DURATION = 30\n",
    "for room in classrooms_df.Classroom:\n",
    "    for course_df in courses_offered.groupby(by=['Course_Name', 'Session']):\n",
    "        course_name, course_session = course_df[0]\n",
    "        course = course_df[1]\n",
    "        number_of_credit = course.Credit_Hours.values.tolist()[0]\n",
    "        duration = (number_of_credit * CLASS_DURATION) / (len(course) * PERIOD_DURATION)\n",
    "        number_of_period_covered = math.ceil(duration)\n",
    "        for day in course.Day.values.tolist():\n",
    "            for professor in preferences_df.Faculty_Name:\n",
    "                aggregate_values = []\n",
    "                for period in periods_df[periods_df.Day_Name == day].Period.values.tolist():\n",
    "                    aggregate_values.append(x_fcsrp[(professor, course_name, course_session, room, period)])\n",
    "                model.add_constraint((model.sum(aggregate_values) == 0) + (model.sum(aggregate_values) == number_of_period_covered) >= 1)\n",
    "\n",
    "### Each course is taught at the same time in the same room by the same faculty on the day it is offered\n",
    "for course in courses_offered.groupby(by=['Course_Name', 'Session']):\n",
    "    course_name, session = course[0]\n",
    "    days_offered = course[1].Day.values.tolist()\n",
    "    for index in range(len(days_offered) - 1):\n",
    "        x = periods_df[periods_df.Day_Name == days_offered[index]].Period.values.tolist()\n",
    "        y = periods_df[periods_df.Day_Name == days_offered[index + 1]].Period.values.tolist()\n",
    "        for periods in list(zip(x, y)):\n",
    "            for professor in preferences_df.Faculty_Name:\n",
    "                for room in classrooms_df['Classroom']:\n",
    "                    aggregate_values = []\n",
    "                    aggregate_values.append(x_fcsrp[(professor, course_name, session, room, periods[0])])\n",
    "                    aggregate_values.append(x_fcsrp[(professor, course_name, session, room, periods[1])])\n",
    "                    model.add_constraint(aggregate_values[0] - aggregate_values[1] == 0)\n",
    "\n",
    "### A course is taught in a classroom that can hold at least the maximum number of students enrolled\n",
    "for course in courses_offered.itertuples():\n",
    "    for period in periods_df[periods_df.Day_Name == course.Day].Period.values.tolist():\n",
    "        for professor in preferences_df.Faculty_Name:\n",
    "            for room in classrooms_df.itertuples():\n",
    "                model.add_constraint(x_fcsrp[(professor, course.Course_Name, course.Session, room.Classroom, period)] * course.Max_Enrollement <= room.Capacity)\n",
    "\n",
    "### Each faculty member can only teach up to his or her workload\n",
    "CLASS_DURATION = 50\n",
    "PERIOD_DURATION = 30\n",
    "for professor in preferences_df.itertuples():\n",
    "    aggregate_values = []\n",
    "    for course in courses_offered.groupby(by=['Course_Name', 'Session']):\n",
    "        course_name, session = course[0]\n",
    "        for day_offered in course[1].Day.values.tolist():\n",
    "            for period in periods_df[periods_df.Day_Name == day_offered].Period.values.tolist():\n",
    "                for room in classrooms_df.Classroom:\n",
    "                    aggregate_values.append(x_fcsrp[(professor.Faculty_Name, course_name, session, room, period)])\n",
    "    model.add_constraint(model.sum(aggregate_values) * PERIOD_DURATION <= professor.Workload_Credit_Hours * 60)"
   ]
  },
  {
   "cell_type": "markdown",
   "id": "cooperative-jimmy",
   "metadata": {},
   "source": [
    "#### Special Rules"
   ]
  },
  {
   "cell_type": "markdown",
   "id": "hawaiian-yesterday",
   "metadata": {},
   "source": [
    "1. Seniors courses start at 1:00 PM"
   ]
  },
  {
   "cell_type": "code",
   "execution_count": null,
   "id": "contrary-debate",
   "metadata": {},
   "outputs": [],
   "source": [
    "### 800+ courses are taught after 1:00 PM\n",
    "SENIOR_COURSE_NUMBER = 800\n",
    "START_TIME = 13 # PM\n",
    "for course in courses_offered[courses_offered.Course_Number >= SENIOR_COURSE_NUMBER].itertuples():\n",
    "    for period in periods_df[(periods_df.Day_Name == course.Day) & (periods_df.Start_Time < START_TIME)].Period.values.tolist():\n",
    "        for professor in preferences_df.Faculty_Name:\n",
    "            for room in classrooms_df.Classroom:\n",
    "                model.add_constraint(x_fcsrp[(professor, course.Course_Name, course.Session, room, period)] == 0)\n"
   ]
  },
  {
   "cell_type": "markdown",
   "id": "parliamentary-stranger",
   "metadata": {},
   "source": [
    "2. No classes are taught on Friday after 4 PM"
   ]
  },
  {
   "cell_type": "code",
   "execution_count": null,
   "id": "bacterial-girlfriend",
   "metadata": {},
   "outputs": [],
   "source": [
    "HOLIDAY = 'Friday'\n",
    "END_TIME = 16\n",
    "for course in courses_offered[courses_offered.Day == HOLIDAY].itertuples():\n",
    "    for period in periods_df[(periods_df.Day_Name == HOLIDAY) & (periods_df.Start_Time >= END_TIME)].Period.values.tolist():\n",
    "        for professor in preferences_df.Faculty_Name:\n",
    "            for room in classrooms_df.Classroom:\n",
    "                model.add_constraint(x_fcsrp[(professor, course.Course_Name, course.Session, room, period)] == 0)"
   ]
  },
  {
   "cell_type": "markdown",
   "id": "tender-leisure",
   "metadata": {},
   "source": [
    "3. Classes are taught on consecutive periods"
   ]
  },
  {
   "cell_type": "raw",
   "id": "violent-seller",
   "metadata": {},
   "source": [
    "CLASS_DURATION = 50\n",
    "PERIOD_DURATION = 30\n",
    "for course in courses_offered.groupby(by=['Course_Name', 'Session']):\n",
    "    course_name, session = course[0]\n",
    "    number_of_credit = course[1].Credit_Hours.values.tolist()[0]\n",
    "    duration = (number_of_credit * CLASS_DURATION) / (len(course[1]) * PERIOD_DURATION)\n",
    "    number_of_period_covered = math.ceil(duration)\n",
    "    for day_offered in course[1].Day.values.tolist():\n",
    "        periods = periods_df[periods_df.Day_Name == day_offered].Period.values.tolist()\n",
    "        for index, period in enumerate(periods[0:len(periods) - number_of_period_covered]):\n",
    "            for professor in preferences_df.Faculty_Name:\n",
    "                for room in classrooms_df.Classroom:\n",
    "                    consecutive_periods = 0\n",
    "                    periods_covered = [periods[x] for x in list(range(index, index + number_of_period_covered))]\n",
    "                    for next_period in periods_covered:\n",
    "                        consecutive_periods += x_fcsrp[(professor, course_name, session, room, next_period)]\n",
    "                    \n",
    "                    model.add_if_then(x_fcsrp[(professor, course_name, session, room, period)] == 1, consecutive_periods == number_of_period_covered)\n",
    "                    \n",
    "                    consecutive_periods = 0\n",
    "                    for next_period in periods:\n",
    "                        if next_period not in periods_covered:\n",
    "                            consecutive_periods += x_fcsrp[(professor, course_name, session, room, next_period)]\n",
    "                    \n",
    "                    model.add_if_then(x_fcsrp[(professor, course_name, session, room, period)] == 1, consecutive_periods == 0)"
   ]
  },
  {
   "cell_type": "markdown",
   "id": "dependent-cooper",
   "metadata": {},
   "source": [
    "#### Objective Function"
   ]
  },
  {
   "cell_type": "code",
   "execution_count": null,
   "id": "interesting-laptop",
   "metadata": {},
   "outputs": [],
   "source": [
    "total_preference = 0\n",
    "for professor in preferences_df.itertuples():\n",
    "    professor_df = pd.DataFrame(professor).T.drop(columns=0)\n",
    "    professor_df.columns = preferences_df.columns\n",
    "    for course in courses_offered.itertuples():\n",
    "        course_code = '{}_{}'.format(course.Department_Code, str(course.Course_Number))\n",
    "        preference_score = professor_df[course_code].values.tolist()[0]\n",
    "        professor_name = professor_df.Faculty_Name.values.tolist()[0]\n",
    "        for period in periods_df[periods_df.Day_Name == course.Day].Period.values.tolist():\n",
    "            for room in classrooms_df.Classroom:\n",
    "                total_preference += preference_score * x_fcsrp[(professor_name, course.Course_Name, course.Session, room, period)]\n",
    "\n",
    "model.maximize(total_preference)\n",
    "model.print_information()"
   ]
  },
  {
   "cell_type": "markdown",
   "id": "sacred-armstrong",
   "metadata": {},
   "source": [
    "#### Solution"
   ]
  },
  {
   "cell_type": "code",
   "execution_count": null,
   "id": "fourth-brave",
   "metadata": {},
   "outputs": [],
   "source": [
    "###############\n",
    "# Solve Model #\n",
    "###############\n",
    "model.print_information()\n",
    "solution = model.solve(log_output = True)\n",
    "assert solution, \"Solve Failed\"\n",
    "model.report()"
   ]
  },
  {
   "cell_type": "markdown",
   "id": "promotional-electric",
   "metadata": {},
   "source": [
    "#### Post-processing"
   ]
  },
  {
   "cell_type": "code",
   "execution_count": null,
   "id": "comparable-travel",
   "metadata": {},
   "outputs": [],
   "source": [
    "########################\n",
    "## View model solution #\n",
    "########################\n",
    "classes_assigned = []\n",
    "professors_assigned = []\n",
    "professors = []\n",
    "courses = []\n",
    "course_codes = []\n",
    "rooms = []\n",
    "sessions = []\n",
    "periods = []\n",
    "days = []\n",
    "workloads = []\n",
    "credits = []\n",
    "room_capacity = []\n",
    "course_enrollements = []\n",
    "start_times = []\n",
    "end_times = []\n",
    "\n",
    "for course in courses_offered.groupby(by=['Course_Name', 'Session']):\n",
    "    course_name, session = course[0]\n",
    "    course_code = course[1].Course_Number.values.tolist()[0]\n",
    "    course_credit = course[1].Credit_Hours.values.tolist()[0]\n",
    "    course_enrollment = course[1].Max_Enrollement.values.tolist()[0]\n",
    "    for day_offered in course[1].Day.values.tolist():\n",
    "        for professor in preferences_df.itertuples():\n",
    "            for period in periods_df[periods_df.Day_Name == day_offered].Period.values.tolist():\n",
    "                for room in classrooms_df.itertuples():\n",
    "                    value = model.solution.get_value(x_fcsrp[(professor.Faculty_Name, course_name, session, room.Classroom, period)])\n",
    "                    if value != 0:\n",
    "                        professors.append(professor.Faculty_Name)\n",
    "                        courses.append(course_name)\n",
    "                        course_codes.append(course_code)\n",
    "                        sessions.append(session)\n",
    "                        rooms.append(room.Classroom)\n",
    "                        days.append(day_offered)\n",
    "                        periods.append(period)\n",
    "                        workloads.append(professor.Workload_Credit_Hours)\n",
    "                        credits.append(course_credit)\n",
    "                        room_capacity.append(room.Capacity)\n",
    "                        course_enrollements.append(course_enrollment)\n",
    "                        start_times.append(periods_df[periods_df.Period == period].Start_Time.values.tolist()[0])\n",
    "                        end_times.append(periods_df[periods_df.Period == period].End_Time.values.tolist()[0])\n",
    "                        \n",
    "                        if course_name not in classes_assigned:\n",
    "                            classes_assigned.append(course_name)\n",
    "                        if professor_name not in professors_assigned:\n",
    "                            professors_assigned.append(professor_name)\n",
    "    \n",
    "print(f'Number of courses assigned {len(classes_assigned)}')\n",
    "print(f'Number of courses offered  {len(courses_offered.groupby(by=[\"Course_Name\", \"Session\"]))}')\n",
    "print(\"\\nAll of the following courses have been assigned\")\n",
    "print(set(classes_assigned).difference(set(courses_offered.Course_Name.values.tolist())))\n",
    "print(set(courses_offered.Course_Name.values.tolist()).difference(set(classes_assigned)))\n",
    "\n",
    "print(set(professors_assigned).difference(set(qualifications_df.Faculty_Name.values.tolist())))\n",
    "\n",
    "class_schedule = pd.DataFrame({'Professor' : professors, 'Workload' : workloads, 'Course_Name': courses, \n",
    "                               'Course_Code' : course_codes, 'Credit' : credits, 'Session' : sessions, \n",
    "                               'Period' : periods, 'From' : start_times, 'To': end_times, 'Day_Offered' : days, \n",
    "                               'Max_Enrollement' : course_enrollements, 'Classroom' : rooms, 'Room Capacity' : room_capacity})\n",
    "\n",
    "class_schedule.sort_values(by=['Course_Name', 'Session', 'Day_Offered', 'Period'])\n",
    "for course in class_schedule.groupby(by=['Professor']):\n",
    "    display(course[1])\n",
    "    \n",
    "### Write output\n",
    "class_schedule.to_excel(excel_writer='Classes Schedule_Consecutive Periods.xlsx', sheet_name='Report')"
   ]
  },
  {
   "cell_type": "code",
   "execution_count": null,
   "id": "boxed-productivity",
   "metadata": {},
   "outputs": [],
   "source": []
  }
 ],
 "metadata": {
  "kernelspec": {
   "display_name": "Python 3",
   "language": "python",
   "name": "python3"
  },
  "language_info": {
   "codemirror_mode": {
    "name": "ipython",
    "version": 3
   },
   "file_extension": ".py",
   "mimetype": "text/x-python",
   "name": "python",
   "nbconvert_exporter": "python",
   "pygments_lexer": "ipython3",
   "version": "3.7.10"
  }
 },
 "nbformat": 4,
 "nbformat_minor": 5
}
